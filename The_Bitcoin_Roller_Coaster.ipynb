{
  "nbformat": 4,
  "nbformat_minor": 0,
  "metadata": {
    "colab": {
      "name": "The Bitcoin Roller Coaster.ipynb",
      "provenance": [],
      "collapsed_sections": [],
      "authorship_tag": "ABX9TyMOQhJAZDfrPxCcWRpZ2SE+",
      "include_colab_link": true
    },
    "kernelspec": {
      "name": "python3",
      "display_name": "Python 3"
    }
  },
  "cells": [
    {
      "cell_type": "markdown",
      "metadata": {
        "id": "view-in-github",
        "colab_type": "text"
      },
      "source": [
        "<a href=\"https://colab.research.google.com/github/jakelor/PYTH2/blob/master/The_Bitcoin_Roller_Coaster.ipynb\" target=\"_parent\"><img src=\"https://colab.research.google.com/assets/colab-badge.svg\" alt=\"Open In Colab\"/></a>"
      ]
    },
    {
      "cell_type": "markdown",
      "metadata": {
        "id": "lqNXxkRPro-v",
        "colab_type": "text"
      },
      "source": [
        "**The Bitcoin Roller Coaster**\n",
        "\n",
        "Today's presentation uses a dataset that shows multiple cryptocurrencies' prices and will then dive deeper into Bitcion's ups and downs. \n",
        "\n",
        "We will explore the prices of multiple cryptocurrencies and see how their prices compare against Bitcoin.\n",
        "\n",
        "We will then dive deeper into Bitcoin and discover BTC's historial prices.\n",
        "\n",
        "The begining of the presentation explains where the data is from, quickly explore the data, and then do some data cleaning. \n",
        "\n",
        "The second part will focus on the findings using table and chart visuals."
      ]
    },
    {
      "cell_type": "markdown",
      "metadata": {
        "id": "0wNMG_LttqFg",
        "colab_type": "text"
      },
      "source": [
        "**First I start by importing all the libraries required for this presentation**"
      ]
    },
    {
      "cell_type": "code",
      "metadata": {
        "id": "dN4-COK8K6Kj",
        "colab_type": "code",
        "outputId": "02cc74eb-07a8-4ed5-cb52-54c3ccea5265",
        "colab": {
          "base_uri": "https://localhost:8080/",
          "height": 136
        }
      },
      "source": [
        "import pandas as pd\n",
        "print(\"pandas complete\")\n",
        "import numpy as np\n",
        "print(\"numpy complete\")\n",
        "import matplotlib.pyplot as plt\n",
        "print(\"matplotlib complete\")\n",
        "\n",
        "# set the plots to display in the Jupyter notebook\n",
        "%matplotlib inline\n",
        "print(\"inline  complete\")\n",
        "# change plotting colors per client request\n",
        "plt.style.use('ggplot')\n",
        "print(\"ggplot theme complete\")\n",
        "\n",
        "# Increase default figure and font sizes for easier viewing.\n",
        "plt.rcParams['figure.figsize'] = (15, 10)\n",
        "print(\"figsize complete\")\n",
        "plt.rcParams['font.size'] = 8\n",
        "print(\"fontsize complete\")"
      ],
      "execution_count": 0,
      "outputs": [
        {
          "output_type": "stream",
          "text": [
            "pandas complete\n",
            "numpy complete\n",
            "matplotlib complete\n",
            "inline  complete\n",
            "ggplot theme complete\n",
            "figsize complete\n",
            "fontsize complete\n"
          ],
          "name": "stdout"
        }
      ]
    },
    {
      "cell_type": "markdown",
      "metadata": {
        "id": "6QfwbhoIuS5n",
        "colab_type": "text"
      },
      "source": [
        "**Then we go import the actual data set**\n",
        "\n",
        "The csv file contains consolidated finanical information for the top 10 cryptocurrencies by marketcap. \n",
        "\n",
        "Attributes include: Currency name (e.g. bitcoin), Date, Open, High, Low, Close, Volume, Marketcap\n",
        "\n",
        "***Data Dictionary***\n",
        "\n",
        "*   Currency: Name of currency\n",
        "*   Date: Date refers to the calendar date for the particular row - 24 hours midnight to midnight\n",
        "*   Open: Open is what the price was at the beginning of the day\n",
        "*   High: Highest recorded trading price of the day\n",
        "*   Low: Lowest recorded trading price of the day\n",
        "*   Close: Close is what the price was at the end of the day\n",
        "*   Volume: Volume represents the monetary value of the currency traded in a 24 hour period, denoted in USD\n",
        "*  Market Cap: Market cap is circulating supply x price of the coin.\n"
      ]
    },
    {
      "cell_type": "code",
      "metadata": {
        "id": "D5yI4TvlN0Dr",
        "colab_type": "code",
        "outputId": "fc72f880-a762-463c-ec25-f8a9c0a43282",
        "colab": {
          "base_uri": "https://localhost:8080/",
          "height": 51
        }
      },
      "source": [
        "## Let's now load the data set! Data downloaded from Kaggle.com\n",
        "crypto_orig = pd.read_csv('./cryptocurrency-financial-data.zip', compression='zip')\n",
        "print('data loaded successfully')\n",
        "\n",
        "## copy the original data into a second df\n",
        "crypto = crypto_orig.copy()\n",
        "print('copy successfull')"
      ],
      "execution_count": 0,
      "outputs": [
        {
          "output_type": "stream",
          "text": [
            "data loaded successfully\n",
            "copy successfull\n"
          ],
          "name": "stdout"
        }
      ]
    },
    {
      "cell_type": "code",
      "metadata": {
        "id": "rAqaPHfL1VQC",
        "colab_type": "code",
        "outputId": "1273eef8-0324-4214-a821-590d05e195a3",
        "colab": {
          "base_uri": "https://localhost:8080/",
          "height": 359
        }
      },
      "source": [
        "#let's explore the first 10 rows\n",
        "crypto.head(10)"
      ],
      "execution_count": 0,
      "outputs": [
        {
          "output_type": "execute_result",
          "data": {
            "text/html": [
              "<div>\n",
              "<style scoped>\n",
              "    .dataframe tbody tr th:only-of-type {\n",
              "        vertical-align: middle;\n",
              "    }\n",
              "\n",
              "    .dataframe tbody tr th {\n",
              "        vertical-align: top;\n",
              "    }\n",
              "\n",
              "    .dataframe thead th {\n",
              "        text-align: right;\n",
              "    }\n",
              "</style>\n",
              "<table border=\"1\" class=\"dataframe\">\n",
              "  <thead>\n",
              "    <tr style=\"text-align: right;\">\n",
              "      <th></th>\n",
              "      <th>Currency</th>\n",
              "      <th>Date</th>\n",
              "      <th>Open</th>\n",
              "      <th>High</th>\n",
              "      <th>Low</th>\n",
              "      <th>Close</th>\n",
              "      <th>Volume</th>\n",
              "      <th>Market Cap</th>\n",
              "    </tr>\n",
              "  </thead>\n",
              "  <tbody>\n",
              "    <tr>\n",
              "      <th>0</th>\n",
              "      <td>tezos</td>\n",
              "      <td>Dec 04, 2019</td>\n",
              "      <td>1.29</td>\n",
              "      <td>1.32</td>\n",
              "      <td>1.25</td>\n",
              "      <td>1.25</td>\n",
              "      <td>46,048,752</td>\n",
              "      <td>824,588,509</td>\n",
              "    </tr>\n",
              "    <tr>\n",
              "      <th>1</th>\n",
              "      <td>tezos</td>\n",
              "      <td>Dec 03, 2019</td>\n",
              "      <td>1.24</td>\n",
              "      <td>1.32</td>\n",
              "      <td>1.21</td>\n",
              "      <td>1.29</td>\n",
              "      <td>41,462,224</td>\n",
              "      <td>853,213,342</td>\n",
              "    </tr>\n",
              "    <tr>\n",
              "      <th>2</th>\n",
              "      <td>tezos</td>\n",
              "      <td>Dec 02, 2019</td>\n",
              "      <td>1.25</td>\n",
              "      <td>1.26</td>\n",
              "      <td>1.20</td>\n",
              "      <td>1.24</td>\n",
              "      <td>27,574,097</td>\n",
              "      <td>817,872,179</td>\n",
              "    </tr>\n",
              "    <tr>\n",
              "      <th>3</th>\n",
              "      <td>tezos</td>\n",
              "      <td>Dec 01, 2019</td>\n",
              "      <td>1.33</td>\n",
              "      <td>1.34</td>\n",
              "      <td>1.25</td>\n",
              "      <td>1.25</td>\n",
              "      <td>24,127,567</td>\n",
              "      <td>828,296,390</td>\n",
              "    </tr>\n",
              "    <tr>\n",
              "      <th>4</th>\n",
              "      <td>tezos</td>\n",
              "      <td>Nov 30, 2019</td>\n",
              "      <td>1.31</td>\n",
              "      <td>1.37</td>\n",
              "      <td>1.31</td>\n",
              "      <td>1.33</td>\n",
              "      <td>28,706,667</td>\n",
              "      <td>879,181,680</td>\n",
              "    </tr>\n",
              "    <tr>\n",
              "      <th>5</th>\n",
              "      <td>tezos</td>\n",
              "      <td>Nov 29, 2019</td>\n",
              "      <td>1.28</td>\n",
              "      <td>1.34</td>\n",
              "      <td>1.28</td>\n",
              "      <td>1.31</td>\n",
              "      <td>32,270,224</td>\n",
              "      <td>867,085,098</td>\n",
              "    </tr>\n",
              "    <tr>\n",
              "      <th>6</th>\n",
              "      <td>tezos</td>\n",
              "      <td>Nov 28, 2019</td>\n",
              "      <td>1.26</td>\n",
              "      <td>1.35</td>\n",
              "      <td>1.22</td>\n",
              "      <td>1.28</td>\n",
              "      <td>44,240,281</td>\n",
              "      <td>845,073,679</td>\n",
              "    </tr>\n",
              "    <tr>\n",
              "      <th>7</th>\n",
              "      <td>tezos</td>\n",
              "      <td>Nov 27, 2019</td>\n",
              "      <td>1.24</td>\n",
              "      <td>1.27</td>\n",
              "      <td>1.16</td>\n",
              "      <td>1.26</td>\n",
              "      <td>47,723,271</td>\n",
              "      <td>829,672,736</td>\n",
              "    </tr>\n",
              "    <tr>\n",
              "      <th>8</th>\n",
              "      <td>tezos</td>\n",
              "      <td>Nov 26, 2019</td>\n",
              "      <td>1.24</td>\n",
              "      <td>1.28</td>\n",
              "      <td>1.23</td>\n",
              "      <td>1.24</td>\n",
              "      <td>54,828,808</td>\n",
              "      <td>822,065,277</td>\n",
              "    </tr>\n",
              "    <tr>\n",
              "      <th>9</th>\n",
              "      <td>tezos</td>\n",
              "      <td>Nov 25, 2019</td>\n",
              "      <td>1.33</td>\n",
              "      <td>1.33</td>\n",
              "      <td>1.21</td>\n",
              "      <td>1.24</td>\n",
              "      <td>64,954,006</td>\n",
              "      <td>815,688,075</td>\n",
              "    </tr>\n",
              "  </tbody>\n",
              "</table>\n",
              "</div>"
            ],
            "text/plain": [
              "  Currency          Date  Open  High   Low Close      Volume   Market Cap\n",
              "0    tezos  Dec 04, 2019  1.29  1.32  1.25  1.25  46,048,752  824,588,509\n",
              "1    tezos  Dec 03, 2019  1.24  1.32  1.21  1.29  41,462,224  853,213,342\n",
              "2    tezos  Dec 02, 2019  1.25  1.26  1.20  1.24  27,574,097  817,872,179\n",
              "3    tezos  Dec 01, 2019  1.33  1.34  1.25  1.25  24,127,567  828,296,390\n",
              "4    tezos  Nov 30, 2019  1.31  1.37  1.31  1.33  28,706,667  879,181,680\n",
              "5    tezos  Nov 29, 2019  1.28  1.34  1.28  1.31  32,270,224  867,085,098\n",
              "6    tezos  Nov 28, 2019  1.26  1.35  1.22  1.28  44,240,281  845,073,679\n",
              "7    tezos  Nov 27, 2019  1.24  1.27  1.16  1.26  47,723,271  829,672,736\n",
              "8    tezos  Nov 26, 2019  1.24  1.28  1.23  1.24  54,828,808  822,065,277\n",
              "9    tezos  Nov 25, 2019  1.33  1.33  1.21  1.24  64,954,006  815,688,075"
            ]
          },
          "metadata": {
            "tags": []
          },
          "execution_count": 3
        }
      ]
    },
    {
      "cell_type": "code",
      "metadata": {
        "id": "ZudcooZk0sIX",
        "colab_type": "code",
        "outputId": "2d2e19f1-b68a-4fa6-fbc6-67a7d30c9e05",
        "colab": {
          "base_uri": "https://localhost:8080/",
          "height": 80
        }
      },
      "source": [
        "#check if data is accurate by comparing 1 random date...\n",
        "#I will check it agains coinmarketcap.com\n",
        "crypto[(crypto['Currency'] == 'bitcoin') & (crypto['Date'] == 'Dec 01, 2019')]"
      ],
      "execution_count": 0,
      "outputs": [
        {
          "output_type": "execute_result",
          "data": {
            "text/html": [
              "<div>\n",
              "<style scoped>\n",
              "    .dataframe tbody tr th:only-of-type {\n",
              "        vertical-align: middle;\n",
              "    }\n",
              "\n",
              "    .dataframe tbody tr th {\n",
              "        vertical-align: top;\n",
              "    }\n",
              "\n",
              "    .dataframe thead th {\n",
              "        text-align: right;\n",
              "    }\n",
              "</style>\n",
              "<table border=\"1\" class=\"dataframe\">\n",
              "  <thead>\n",
              "    <tr style=\"text-align: right;\">\n",
              "      <th></th>\n",
              "      <th>Currency</th>\n",
              "      <th>Date</th>\n",
              "      <th>Open</th>\n",
              "      <th>High</th>\n",
              "      <th>Low</th>\n",
              "      <th>Close</th>\n",
              "      <th>Volume</th>\n",
              "      <th>Market Cap</th>\n",
              "    </tr>\n",
              "  </thead>\n",
              "  <tbody>\n",
              "    <tr>\n",
              "      <th>7239</th>\n",
              "      <td>bitcoin</td>\n",
              "      <td>Dec 01, 2019</td>\n",
              "      <td>7,571.62</td>\n",
              "      <td>7,571.62</td>\n",
              "      <td>7,291.34</td>\n",
              "      <td>7,424.29</td>\n",
              "      <td>18,720,708,479</td>\n",
              "      <td>134,215,145,410</td>\n",
              "    </tr>\n",
              "  </tbody>\n",
              "</table>\n",
              "</div>"
            ],
            "text/plain": [
              "     Currency          Date  ...          Volume       Market Cap\n",
              "7239  bitcoin  Dec 01, 2019  ...  18,720,708,479  134,215,145,410\n",
              "\n",
              "[1 rows x 8 columns]"
            ]
          },
          "metadata": {
            "tags": []
          },
          "execution_count": 4
        }
      ]
    },
    {
      "cell_type": "markdown",
      "metadata": {
        "id": "zWDl2mTK2oxc",
        "colab_type": "text"
      },
      "source": [
        "**Now it's time for some data cleaning**\n",
        "\n",
        "We will check if the numbers are floats or objects"
      ]
    },
    {
      "cell_type": "code",
      "metadata": {
        "id": "AIA-s9MI2dk-",
        "colab_type": "code",
        "outputId": "ed8ac749-16b3-4476-edcf-ae3c4ed533a9",
        "colab": {
          "base_uri": "https://localhost:8080/",
          "height": 238
        }
      },
      "source": [
        "#look at the data types for each col\n",
        "crypto.info()"
      ],
      "execution_count": 0,
      "outputs": [
        {
          "output_type": "stream",
          "text": [
            "<class 'pandas.core.frame.DataFrame'>\n",
            "RangeIndex: 28944 entries, 0 to 28943\n",
            "Data columns (total 8 columns):\n",
            "Currency      28944 non-null object\n",
            "Date          28944 non-null object\n",
            "Open          28944 non-null object\n",
            "High          28944 non-null object\n",
            "Low           28944 non-null object\n",
            "Close         28944 non-null object\n",
            "Volume        28944 non-null object\n",
            "Market Cap    28944 non-null object\n",
            "dtypes: object(8)\n",
            "memory usage: 1.8+ MB\n"
          ],
          "name": "stdout"
        }
      ]
    },
    {
      "cell_type": "code",
      "metadata": {
        "id": "d7euAdRF3Hz3",
        "colab_type": "code",
        "outputId": "d4bb304e-1a83-446f-9d00-ee7da3d1d605",
        "colab": {
          "base_uri": "https://localhost:8080/",
          "height": 80
        }
      },
      "source": [
        "# time to remove all the commas from the followig commas ... otherwise we can't change them to floats or ints\n",
        "crypto['Open'] = crypto['Open'].str.replace(',', '')\n",
        "crypto['High'] = crypto['High'].str.replace(',', '')\n",
        "crypto['Low'] = crypto['Low'].str.replace(',', '')\n",
        "crypto['Close'] = crypto['Close'].str.replace(',', '')\n",
        "crypto['Volume'] = crypto['Volume'].str.replace(',', '')\n",
        "crypto['Market Cap'] = crypto['Market Cap'].str.replace(',', '')\n",
        "\n",
        "#let's see if they're gone...\n",
        "crypto[(crypto['Currency'] == 'bitcoin') & (crypto['Date'] == 'Dec 01, 2019')]"
      ],
      "execution_count": 0,
      "outputs": [
        {
          "output_type": "execute_result",
          "data": {
            "text/html": [
              "<div>\n",
              "<style scoped>\n",
              "    .dataframe tbody tr th:only-of-type {\n",
              "        vertical-align: middle;\n",
              "    }\n",
              "\n",
              "    .dataframe tbody tr th {\n",
              "        vertical-align: top;\n",
              "    }\n",
              "\n",
              "    .dataframe thead th {\n",
              "        text-align: right;\n",
              "    }\n",
              "</style>\n",
              "<table border=\"1\" class=\"dataframe\">\n",
              "  <thead>\n",
              "    <tr style=\"text-align: right;\">\n",
              "      <th></th>\n",
              "      <th>Currency</th>\n",
              "      <th>Date</th>\n",
              "      <th>Open</th>\n",
              "      <th>High</th>\n",
              "      <th>Low</th>\n",
              "      <th>Close</th>\n",
              "      <th>Volume</th>\n",
              "      <th>Market Cap</th>\n",
              "    </tr>\n",
              "  </thead>\n",
              "  <tbody>\n",
              "    <tr>\n",
              "      <th>7239</th>\n",
              "      <td>bitcoin</td>\n",
              "      <td>Dec 01, 2019</td>\n",
              "      <td>7571.62</td>\n",
              "      <td>7571.62</td>\n",
              "      <td>7291.34</td>\n",
              "      <td>7424.29</td>\n",
              "      <td>18720708479</td>\n",
              "      <td>134215145410</td>\n",
              "    </tr>\n",
              "  </tbody>\n",
              "</table>\n",
              "</div>"
            ],
            "text/plain": [
              "     Currency          Date     Open  ...    Close       Volume    Market Cap\n",
              "7239  bitcoin  Dec 01, 2019  7571.62  ...  7424.29  18720708479  134215145410\n",
              "\n",
              "[1 rows x 8 columns]"
            ]
          },
          "metadata": {
            "tags": []
          },
          "execution_count": 6
        }
      ]
    },
    {
      "cell_type": "code",
      "metadata": {
        "id": "Cxikty985H9U",
        "colab_type": "code",
        "outputId": "f22c35ce-d294-4a3d-ee35-57d1c4c0e406",
        "colab": {
          "base_uri": "https://localhost:8080/",
          "height": 323
        }
      },
      "source": [
        "#we need to change the fields to numeric... we will use map/apply\n",
        "\n",
        "def convtofloat(val):\n",
        "  val =  float(val)\n",
        "\n",
        "  return val\n",
        "\n",
        "def convtoint(val):\n",
        "  val =  int(val)\n",
        "\n",
        "  return val\n",
        "\n",
        "crypto['Open'] = crypto['Open'].map(convtofloat)\n",
        "crypto['High'] = crypto['High'].map(convtofloat)\n",
        "crypto['Low'] = crypto['Low'].map(convtofloat)\n",
        "crypto['Close'] = crypto['Close'].map(convtofloat)\n",
        "crypto['Volume'] = crypto['Volume'].map(convtofloat)\n",
        "crypto['Market Cap'] = crypto['Market Cap'].map(convtoint)\n",
        "\n",
        "print(crypto.info())\n",
        "print(crypto.head(3))"
      ],
      "execution_count": 0,
      "outputs": [
        {
          "output_type": "stream",
          "text": [
            "<class 'pandas.core.frame.DataFrame'>\n",
            "RangeIndex: 28944 entries, 0 to 28943\n",
            "Data columns (total 8 columns):\n",
            "Currency      28944 non-null object\n",
            "Date          28944 non-null object\n",
            "Open          28944 non-null float64\n",
            "High          28944 non-null float64\n",
            "Low           28944 non-null float64\n",
            "Close         28944 non-null float64\n",
            "Volume        28944 non-null float64\n",
            "Market Cap    28944 non-null int64\n",
            "dtypes: float64(5), int64(1), object(2)\n",
            "memory usage: 1.8+ MB\n",
            "None\n",
            "  Currency          Date  Open  High   Low  Close      Volume  Market Cap\n",
            "0    tezos  Dec 04, 2019  1.29  1.32  1.25   1.25  46048752.0   824588509\n",
            "1    tezos  Dec 03, 2019  1.24  1.32  1.21   1.29  41462224.0   853213342\n",
            "2    tezos  Dec 02, 2019  1.25  1.26  1.20   1.24  27574097.0   817872179\n"
          ],
          "name": "stdout"
        }
      ]
    },
    {
      "cell_type": "markdown",
      "metadata": {
        "id": "RPqvikb74PJ_",
        "colab_type": "text"
      },
      "source": [
        "**I want to add some date values to make it easier to plot**"
      ]
    },
    {
      "cell_type": "code",
      "metadata": {
        "id": "tMqfRbCiTp1s",
        "colab_type": "code",
        "outputId": "4f162be0-063e-403f-bf71-6c05c7640095",
        "colab": {
          "base_uri": "https://localhost:8080/",
          "height": 359
        }
      },
      "source": [
        "# add year\n",
        "crypto['yyyy'] = pd.to_datetime(crypto['Date']).dt.year\n",
        "# add month\n",
        "crypto['mm'] = pd.to_datetime(crypto['Date']).dt.month\n",
        "# add quarter\n",
        "crypto['q'] = pd.to_datetime(crypto['Date']).dt.quarter\n",
        "\n",
        "#let's explore\n",
        "crypto.head(10)\n"
      ],
      "execution_count": 0,
      "outputs": [
        {
          "output_type": "execute_result",
          "data": {
            "text/html": [
              "<div>\n",
              "<style scoped>\n",
              "    .dataframe tbody tr th:only-of-type {\n",
              "        vertical-align: middle;\n",
              "    }\n",
              "\n",
              "    .dataframe tbody tr th {\n",
              "        vertical-align: top;\n",
              "    }\n",
              "\n",
              "    .dataframe thead th {\n",
              "        text-align: right;\n",
              "    }\n",
              "</style>\n",
              "<table border=\"1\" class=\"dataframe\">\n",
              "  <thead>\n",
              "    <tr style=\"text-align: right;\">\n",
              "      <th></th>\n",
              "      <th>Currency</th>\n",
              "      <th>Date</th>\n",
              "      <th>Open</th>\n",
              "      <th>High</th>\n",
              "      <th>Low</th>\n",
              "      <th>Close</th>\n",
              "      <th>Volume</th>\n",
              "      <th>Market Cap</th>\n",
              "      <th>yyyy</th>\n",
              "      <th>mm</th>\n",
              "      <th>q</th>\n",
              "    </tr>\n",
              "  </thead>\n",
              "  <tbody>\n",
              "    <tr>\n",
              "      <th>0</th>\n",
              "      <td>tezos</td>\n",
              "      <td>Dec 04, 2019</td>\n",
              "      <td>1.29</td>\n",
              "      <td>1.32</td>\n",
              "      <td>1.25</td>\n",
              "      <td>1.25</td>\n",
              "      <td>46048752.0</td>\n",
              "      <td>824588509</td>\n",
              "      <td>2019</td>\n",
              "      <td>12</td>\n",
              "      <td>4</td>\n",
              "    </tr>\n",
              "    <tr>\n",
              "      <th>1</th>\n",
              "      <td>tezos</td>\n",
              "      <td>Dec 03, 2019</td>\n",
              "      <td>1.24</td>\n",
              "      <td>1.32</td>\n",
              "      <td>1.21</td>\n",
              "      <td>1.29</td>\n",
              "      <td>41462224.0</td>\n",
              "      <td>853213342</td>\n",
              "      <td>2019</td>\n",
              "      <td>12</td>\n",
              "      <td>4</td>\n",
              "    </tr>\n",
              "    <tr>\n",
              "      <th>2</th>\n",
              "      <td>tezos</td>\n",
              "      <td>Dec 02, 2019</td>\n",
              "      <td>1.25</td>\n",
              "      <td>1.26</td>\n",
              "      <td>1.20</td>\n",
              "      <td>1.24</td>\n",
              "      <td>27574097.0</td>\n",
              "      <td>817872179</td>\n",
              "      <td>2019</td>\n",
              "      <td>12</td>\n",
              "      <td>4</td>\n",
              "    </tr>\n",
              "    <tr>\n",
              "      <th>3</th>\n",
              "      <td>tezos</td>\n",
              "      <td>Dec 01, 2019</td>\n",
              "      <td>1.33</td>\n",
              "      <td>1.34</td>\n",
              "      <td>1.25</td>\n",
              "      <td>1.25</td>\n",
              "      <td>24127567.0</td>\n",
              "      <td>828296390</td>\n",
              "      <td>2019</td>\n",
              "      <td>12</td>\n",
              "      <td>4</td>\n",
              "    </tr>\n",
              "    <tr>\n",
              "      <th>4</th>\n",
              "      <td>tezos</td>\n",
              "      <td>Nov 30, 2019</td>\n",
              "      <td>1.31</td>\n",
              "      <td>1.37</td>\n",
              "      <td>1.31</td>\n",
              "      <td>1.33</td>\n",
              "      <td>28706667.0</td>\n",
              "      <td>879181680</td>\n",
              "      <td>2019</td>\n",
              "      <td>11</td>\n",
              "      <td>4</td>\n",
              "    </tr>\n",
              "    <tr>\n",
              "      <th>5</th>\n",
              "      <td>tezos</td>\n",
              "      <td>Nov 29, 2019</td>\n",
              "      <td>1.28</td>\n",
              "      <td>1.34</td>\n",
              "      <td>1.28</td>\n",
              "      <td>1.31</td>\n",
              "      <td>32270224.0</td>\n",
              "      <td>867085098</td>\n",
              "      <td>2019</td>\n",
              "      <td>11</td>\n",
              "      <td>4</td>\n",
              "    </tr>\n",
              "    <tr>\n",
              "      <th>6</th>\n",
              "      <td>tezos</td>\n",
              "      <td>Nov 28, 2019</td>\n",
              "      <td>1.26</td>\n",
              "      <td>1.35</td>\n",
              "      <td>1.22</td>\n",
              "      <td>1.28</td>\n",
              "      <td>44240281.0</td>\n",
              "      <td>845073679</td>\n",
              "      <td>2019</td>\n",
              "      <td>11</td>\n",
              "      <td>4</td>\n",
              "    </tr>\n",
              "    <tr>\n",
              "      <th>7</th>\n",
              "      <td>tezos</td>\n",
              "      <td>Nov 27, 2019</td>\n",
              "      <td>1.24</td>\n",
              "      <td>1.27</td>\n",
              "      <td>1.16</td>\n",
              "      <td>1.26</td>\n",
              "      <td>47723271.0</td>\n",
              "      <td>829672736</td>\n",
              "      <td>2019</td>\n",
              "      <td>11</td>\n",
              "      <td>4</td>\n",
              "    </tr>\n",
              "    <tr>\n",
              "      <th>8</th>\n",
              "      <td>tezos</td>\n",
              "      <td>Nov 26, 2019</td>\n",
              "      <td>1.24</td>\n",
              "      <td>1.28</td>\n",
              "      <td>1.23</td>\n",
              "      <td>1.24</td>\n",
              "      <td>54828808.0</td>\n",
              "      <td>822065277</td>\n",
              "      <td>2019</td>\n",
              "      <td>11</td>\n",
              "      <td>4</td>\n",
              "    </tr>\n",
              "    <tr>\n",
              "      <th>9</th>\n",
              "      <td>tezos</td>\n",
              "      <td>Nov 25, 2019</td>\n",
              "      <td>1.33</td>\n",
              "      <td>1.33</td>\n",
              "      <td>1.21</td>\n",
              "      <td>1.24</td>\n",
              "      <td>64954006.0</td>\n",
              "      <td>815688075</td>\n",
              "      <td>2019</td>\n",
              "      <td>11</td>\n",
              "      <td>4</td>\n",
              "    </tr>\n",
              "  </tbody>\n",
              "</table>\n",
              "</div>"
            ],
            "text/plain": [
              "  Currency          Date  Open  High   Low  ...      Volume  Market Cap  yyyy  mm  q\n",
              "0    tezos  Dec 04, 2019  1.29  1.32  1.25  ...  46048752.0   824588509  2019  12  4\n",
              "1    tezos  Dec 03, 2019  1.24  1.32  1.21  ...  41462224.0   853213342  2019  12  4\n",
              "2    tezos  Dec 02, 2019  1.25  1.26  1.20  ...  27574097.0   817872179  2019  12  4\n",
              "3    tezos  Dec 01, 2019  1.33  1.34  1.25  ...  24127567.0   828296390  2019  12  4\n",
              "4    tezos  Nov 30, 2019  1.31  1.37  1.31  ...  28706667.0   879181680  2019  11  4\n",
              "5    tezos  Nov 29, 2019  1.28  1.34  1.28  ...  32270224.0   867085098  2019  11  4\n",
              "6    tezos  Nov 28, 2019  1.26  1.35  1.22  ...  44240281.0   845073679  2019  11  4\n",
              "7    tezos  Nov 27, 2019  1.24  1.27  1.16  ...  47723271.0   829672736  2019  11  4\n",
              "8    tezos  Nov 26, 2019  1.24  1.28  1.23  ...  54828808.0   822065277  2019  11  4\n",
              "9    tezos  Nov 25, 2019  1.33  1.33  1.21  ...  64954006.0   815688075  2019  11  4\n",
              "\n",
              "[10 rows x 11 columns]"
            ]
          },
          "metadata": {
            "tags": []
          },
          "execution_count": 8
        }
      ]
    },
    {
      "cell_type": "markdown",
      "metadata": {
        "id": "__YPacOd6SsX",
        "colab_type": "text"
      },
      "source": [
        "**Ok... enough data cleaning... let's have some fun**"
      ]
    },
    {
      "cell_type": "code",
      "metadata": {
        "id": "BdXAHHl1X5Cy",
        "colab_type": "code",
        "outputId": "3b0eddf4-8d9c-4326-a80e-706540e0d9b9",
        "colab": {
          "base_uri": "https://localhost:8080/",
          "height": 751
        }
      },
      "source": [
        "# creating a data frame just for 2019\n",
        "crypto_2019 = crypto[crypto['yyyy'] == 2019]\n",
        "\n",
        "# Increase default figure and font sizes for easier viewing.\n",
        "plt.rcParams['figure.figsize'] = (15, 10)\n",
        "print(\"figsize complete\")\n",
        "plt.rcParams['font.size'] = 15\n",
        "print(\"fontsize complete\")\n",
        "\n",
        "#let's chart it\n",
        "crypto_2019.groupby(['Currency']).agg({'High': np.max}).plot(kind='bar')\n",
        "#crypto_2019.groupby(['Currency']).agg({'High': np.average}).plot(kind='bar')"
      ],
      "execution_count": 0,
      "outputs": [
        {
          "output_type": "stream",
          "text": [
            "figsize complete\n",
            "fontsize complete\n"
          ],
          "name": "stdout"
        },
        {
          "output_type": "execute_result",
          "data": {
            "text/plain": [
              "<matplotlib.axes._subplots.AxesSubplot at 0x7fd8e78eb5f8>"
            ]
          },
          "metadata": {
            "tags": []
          },
          "execution_count": 9
        },
        {
          "output_type": "display_data",
          "data": {
            "image/png": "[encoded data removed]",
            "text/plain": [
              "<Figure size 1080x720 with 1 Axes>"
            ]
          },
          "metadata": {
            "tags": []
          }
        }
      ]
    },
    {
      "cell_type": "markdown",
      "metadata": {
        "id": "v6lWra5MA5lF",
        "colab_type": "text"
      },
      "source": [
        "***ok... bitcoin is too high compared to the others and makes it too hard to read the others... let's exclude btc***"
      ]
    },
    {
      "cell_type": "code",
      "metadata": {
        "id": "n5KyUuucAVCR",
        "colab_type": "code",
        "outputId": "e2e7e70d-ed8a-442f-81b5-bf1cee13d376",
        "colab": {
          "base_uri": "https://localhost:8080/",
          "height": 717
        }
      },
      "source": [
        "#remove bitcoin from df\n",
        "crypto_2019_nobtc = crypto_2019[crypto_2019['Currency'] != 'bitcoin']\n",
        "\n",
        "\n",
        "#let's chart it now\n",
        "crypto_2019_nobtc.groupby(['Currency']).agg({'High': np.max}).plot(kind='bar')"
      ],
      "execution_count": 0,
      "outputs": [
        {
          "output_type": "execute_result",
          "data": {
            "text/plain": [
              "<matplotlib.axes._subplots.AxesSubplot at 0x7fd8e7c475c0>"
            ]
          },
          "metadata": {
            "tags": []
          },
          "execution_count": 10
        },
        {
          "output_type": "display_data",
          "data": {
            "image/png": "[encoded data removed]",
            "text/plain": [
              "<Figure size 1080x720 with 1 Axes>"
            ]
          },
          "metadata": {
            "tags": []
          }
        }
      ]
    },
    {
      "cell_type": "code",
      "metadata": {
        "id": "XEVQMS8xDTMT",
        "colab_type": "code",
        "outputId": "d9ee7f75-af85-4054-cc05-738ebd681f76",
        "colab": {
          "base_uri": "https://localhost:8080/",
          "height": 732
        }
      },
      "source": [
        "#ok... we know that bitcoin-cash had the highest price in 2019... but who had the most volume\n",
        "#REMEMBER... WE'RE STILL EXCLUDING BTC!!!\n",
        "crypto_2019_nobtc.groupby(['Currency']).agg({'Volume': np.sum}).plot(kind='bar')"
      ],
      "execution_count": 0,
      "outputs": [
        {
          "output_type": "execute_result",
          "data": {
            "text/plain": [
              "<matplotlib.axes._subplots.AxesSubplot at 0x7fd8e72abf98>"
            ]
          },
          "metadata": {
            "tags": []
          },
          "execution_count": 11
        },
        {
          "output_type": "display_data",
          "data": {
            "image/png": "[encoded data removed]",
            "text/plain": [
              "<Figure size 1080x720 with 1 Axes>"
            ]
          },
          "metadata": {
            "tags": []
          }
        }
      ]
    },
    {
      "cell_type": "markdown",
      "metadata": {
        "id": "ms1b5eTC0QeO",
        "colab_type": "text"
      },
      "source": [
        "\n",
        "**The last part is going to focus on BTC only**\n",
        "\n",
        "In order to do so, i will create a data frame with btc only and remove the other currencies to make it easier to plot. "
      ]
    },
    {
      "cell_type": "code",
      "metadata": {
        "id": "b67KA2VB0rsu",
        "colab_type": "code",
        "outputId": "880c744d-e14a-48d3-fbf4-3476ce410682",
        "colab": {
          "base_uri": "https://localhost:8080/",
          "height": 51
        }
      },
      "source": [
        "#create df with bitcoin only\n",
        "btc = crypto[crypto['Currency'] == 'bitcoin']\n",
        "\n",
        "# we then want to make sure not other currencies remain with the value counts\n",
        "btc['Currency'].value_counts()\n"
      ],
      "execution_count": 0,
      "outputs": [
        {
          "output_type": "execute_result",
          "data": {
            "text/plain": [
              "bitcoin    2412\n",
              "Name: Currency, dtype: int64"
            ]
          },
          "metadata": {
            "tags": []
          },
          "execution_count": 12
        }
      ]
    },
    {
      "cell_type": "markdown",
      "metadata": {
        "id": "jkk8C_Jm1y_f",
        "colab_type": "text"
      },
      "source": [
        "Before we dig in... let's take a look at the df "
      ]
    },
    {
      "cell_type": "code",
      "metadata": {
        "id": "tOJnkKxt1Q6X",
        "colab_type": "code",
        "outputId": "76e64816-2e65-4dd8-c7bb-25cecdd836aa",
        "colab": {
          "base_uri": "https://localhost:8080/",
          "height": 419
        }
      },
      "source": [
        "btc"
      ],
      "execution_count": 0,
      "outputs": [
        {
          "output_type": "execute_result",
          "data": {
            "text/html": [
              "<div>\n",
              "<style scoped>\n",
              "    .dataframe tbody tr th:only-of-type {\n",
              "        vertical-align: middle;\n",
              "    }\n",
              "\n",
              "    .dataframe tbody tr th {\n",
              "        vertical-align: top;\n",
              "    }\n",
              "\n",
              "    .dataframe thead th {\n",
              "        text-align: right;\n",
              "    }\n",
              "</style>\n",
              "<table border=\"1\" class=\"dataframe\">\n",
              "  <thead>\n",
              "    <tr style=\"text-align: right;\">\n",
              "      <th></th>\n",
              "      <th>Currency</th>\n",
              "      <th>Date</th>\n",
              "      <th>Open</th>\n",
              "      <th>High</th>\n",
              "      <th>Low</th>\n",
              "      <th>Close</th>\n",
              "      <th>Volume</th>\n",
              "      <th>Market Cap</th>\n",
              "      <th>yyyy</th>\n",
              "      <th>mm</th>\n",
              "      <th>q</th>\n",
              "    </tr>\n",
              "  </thead>\n",
              "  <tbody>\n",
              "    <tr>\n",
              "      <th>7236</th>\n",
              "      <td>bitcoin</td>\n",
              "      <td>Dec 04, 2019</td>\n",
              "      <td>7320.13</td>\n",
              "      <td>7539.78</td>\n",
              "      <td>7170.92</td>\n",
              "      <td>7252.03</td>\n",
              "      <td>2.166424e+10</td>\n",
              "      <td>131143073943</td>\n",
              "      <td>2019</td>\n",
              "      <td>12</td>\n",
              "      <td>4</td>\n",
              "    </tr>\n",
              "    <tr>\n",
              "      <th>7237</th>\n",
              "      <td>bitcoin</td>\n",
              "      <td>Dec 03, 2019</td>\n",
              "      <td>7323.98</td>\n",
              "      <td>7418.86</td>\n",
              "      <td>7229.36</td>\n",
              "      <td>7320.15</td>\n",
              "      <td>1.479749e+10</td>\n",
              "      <td>132359942301</td>\n",
              "      <td>2019</td>\n",
              "      <td>12</td>\n",
              "      <td>4</td>\n",
              "    </tr>\n",
              "    <tr>\n",
              "      <th>7238</th>\n",
              "      <td>bitcoin</td>\n",
              "      <td>Dec 02, 2019</td>\n",
              "      <td>7424.04</td>\n",
              "      <td>7474.82</td>\n",
              "      <td>7233.40</td>\n",
              "      <td>7321.99</td>\n",
              "      <td>1.708204e+10</td>\n",
              "      <td>132378982377</td>\n",
              "      <td>2019</td>\n",
              "      <td>12</td>\n",
              "      <td>4</td>\n",
              "    </tr>\n",
              "    <tr>\n",
              "      <th>7239</th>\n",
              "      <td>bitcoin</td>\n",
              "      <td>Dec 01, 2019</td>\n",
              "      <td>7571.62</td>\n",
              "      <td>7571.62</td>\n",
              "      <td>7291.34</td>\n",
              "      <td>7424.29</td>\n",
              "      <td>1.872071e+10</td>\n",
              "      <td>134215145410</td>\n",
              "      <td>2019</td>\n",
              "      <td>12</td>\n",
              "      <td>4</td>\n",
              "    </tr>\n",
              "    <tr>\n",
              "      <th>7240</th>\n",
              "      <td>bitcoin</td>\n",
              "      <td>Nov 30, 2019</td>\n",
              "      <td>7764.06</td>\n",
              "      <td>7836.10</td>\n",
              "      <td>7515.85</td>\n",
              "      <td>7569.63</td>\n",
              "      <td>1.715819e+10</td>\n",
              "      <td>136829391049</td>\n",
              "      <td>2019</td>\n",
              "      <td>11</td>\n",
              "      <td>4</td>\n",
              "    </tr>\n",
              "    <tr>\n",
              "      <th>...</th>\n",
              "      <td>...</td>\n",
              "      <td>...</td>\n",
              "      <td>...</td>\n",
              "      <td>...</td>\n",
              "      <td>...</td>\n",
              "      <td>...</td>\n",
              "      <td>...</td>\n",
              "      <td>...</td>\n",
              "      <td>...</td>\n",
              "      <td>...</td>\n",
              "      <td>...</td>\n",
              "    </tr>\n",
              "    <tr>\n",
              "      <th>9643</th>\n",
              "      <td>bitcoin</td>\n",
              "      <td>May 02, 2013</td>\n",
              "      <td>116.38</td>\n",
              "      <td>125.60</td>\n",
              "      <td>92.28</td>\n",
              "      <td>105.21</td>\n",
              "      <td>0.000000e+00</td>\n",
              "      <td>1168517495</td>\n",
              "      <td>2013</td>\n",
              "      <td>5</td>\n",
              "      <td>2</td>\n",
              "    </tr>\n",
              "    <tr>\n",
              "      <th>9644</th>\n",
              "      <td>bitcoin</td>\n",
              "      <td>May 01, 2013</td>\n",
              "      <td>139.00</td>\n",
              "      <td>139.89</td>\n",
              "      <td>107.72</td>\n",
              "      <td>116.99</td>\n",
              "      <td>0.000000e+00</td>\n",
              "      <td>1298954594</td>\n",
              "      <td>2013</td>\n",
              "      <td>5</td>\n",
              "      <td>2</td>\n",
              "    </tr>\n",
              "    <tr>\n",
              "      <th>9645</th>\n",
              "      <td>bitcoin</td>\n",
              "      <td>Apr 30, 2013</td>\n",
              "      <td>144.00</td>\n",
              "      <td>146.93</td>\n",
              "      <td>134.05</td>\n",
              "      <td>139.00</td>\n",
              "      <td>0.000000e+00</td>\n",
              "      <td>1542813125</td>\n",
              "      <td>2013</td>\n",
              "      <td>4</td>\n",
              "      <td>2</td>\n",
              "    </tr>\n",
              "    <tr>\n",
              "      <th>9646</th>\n",
              "      <td>bitcoin</td>\n",
              "      <td>Apr 29, 2013</td>\n",
              "      <td>134.44</td>\n",
              "      <td>147.49</td>\n",
              "      <td>134.00</td>\n",
              "      <td>144.54</td>\n",
              "      <td>0.000000e+00</td>\n",
              "      <td>1603768865</td>\n",
              "      <td>2013</td>\n",
              "      <td>4</td>\n",
              "      <td>2</td>\n",
              "    </tr>\n",
              "    <tr>\n",
              "      <th>9647</th>\n",
              "      <td>bitcoin</td>\n",
              "      <td>Apr 28, 2013</td>\n",
              "      <td>135.30</td>\n",
              "      <td>135.98</td>\n",
              "      <td>132.10</td>\n",
              "      <td>134.21</td>\n",
              "      <td>0.000000e+00</td>\n",
              "      <td>1488566728</td>\n",
              "      <td>2013</td>\n",
              "      <td>4</td>\n",
              "      <td>2</td>\n",
              "    </tr>\n",
              "  </tbody>\n",
              "</table>\n",
              "<p>2412 rows × 11 columns</p>\n",
              "</div>"
            ],
            "text/plain": [
              "     Currency          Date     Open     High  ...    Market Cap  yyyy  mm  q\n",
              "7236  bitcoin  Dec 04, 2019  7320.13  7539.78  ...  131143073943  2019  12  4\n",
              "7237  bitcoin  Dec 03, 2019  7323.98  7418.86  ...  132359942301  2019  12  4\n",
              "7238  bitcoin  Dec 02, 2019  7424.04  7474.82  ...  132378982377  2019  12  4\n",
              "7239  bitcoin  Dec 01, 2019  7571.62  7571.62  ...  134215145410  2019  12  4\n",
              "7240  bitcoin  Nov 30, 2019  7764.06  7836.10  ...  136829391049  2019  11  4\n",
              "...       ...           ...      ...      ...  ...           ...   ...  .. ..\n",
              "9643  bitcoin  May 02, 2013   116.38   125.60  ...    1168517495  2013   5  2\n",
              "9644  bitcoin  May 01, 2013   139.00   139.89  ...    1298954594  2013   5  2\n",
              "9645  bitcoin  Apr 30, 2013   144.00   146.93  ...    1542813125  2013   4  2\n",
              "9646  bitcoin  Apr 29, 2013   134.44   147.49  ...    1603768865  2013   4  2\n",
              "9647  bitcoin  Apr 28, 2013   135.30   135.98  ...    1488566728  2013   4  2\n",
              "\n",
              "[2412 rows x 11 columns]"
            ]
          },
          "metadata": {
            "tags": []
          },
          "execution_count": 13
        }
      ]
    },
    {
      "cell_type": "code",
      "metadata": {
        "id": "AVzr48DA16xL",
        "colab_type": "code",
        "outputId": "96264c4f-5650-4557-e20d-e20d53365f1b",
        "colab": {
          "base_uri": "https://localhost:8080/",
          "height": 419
        }
      },
      "source": [
        "#I want to reset the index to be on the safe side\n",
        "btc.reset_index(drop=True, inplace=True)\n",
        "\n",
        "#let's take a look\n",
        "btc"
      ],
      "execution_count": 0,
      "outputs": [
        {
          "output_type": "execute_result",
          "data": {
            "text/html": [
              "<div>\n",
              "<style scoped>\n",
              "    .dataframe tbody tr th:only-of-type {\n",
              "        vertical-align: middle;\n",
              "    }\n",
              "\n",
              "    .dataframe tbody tr th {\n",
              "        vertical-align: top;\n",
              "    }\n",
              "\n",
              "    .dataframe thead th {\n",
              "        text-align: right;\n",
              "    }\n",
              "</style>\n",
              "<table border=\"1\" class=\"dataframe\">\n",
              "  <thead>\n",
              "    <tr style=\"text-align: right;\">\n",
              "      <th></th>\n",
              "      <th>Currency</th>\n",
              "      <th>Date</th>\n",
              "      <th>Open</th>\n",
              "      <th>High</th>\n",
              "      <th>Low</th>\n",
              "      <th>Close</th>\n",
              "      <th>Volume</th>\n",
              "      <th>Market Cap</th>\n",
              "      <th>yyyy</th>\n",
              "      <th>mm</th>\n",
              "      <th>q</th>\n",
              "    </tr>\n",
              "  </thead>\n",
              "  <tbody>\n",
              "    <tr>\n",
              "      <th>0</th>\n",
              "      <td>bitcoin</td>\n",
              "      <td>Dec 04, 2019</td>\n",
              "      <td>7320.13</td>\n",
              "      <td>7539.78</td>\n",
              "      <td>7170.92</td>\n",
              "      <td>7252.03</td>\n",
              "      <td>2.166424e+10</td>\n",
              "      <td>131143073943</td>\n",
              "      <td>2019</td>\n",
              "      <td>12</td>\n",
              "      <td>4</td>\n",
              "    </tr>\n",
              "    <tr>\n",
              "      <th>1</th>\n",
              "      <td>bitcoin</td>\n",
              "      <td>Dec 03, 2019</td>\n",
              "      <td>7323.98</td>\n",
              "      <td>7418.86</td>\n",
              "      <td>7229.36</td>\n",
              "      <td>7320.15</td>\n",
              "      <td>1.479749e+10</td>\n",
              "      <td>132359942301</td>\n",
              "      <td>2019</td>\n",
              "      <td>12</td>\n",
              "      <td>4</td>\n",
              "    </tr>\n",
              "    <tr>\n",
              "      <th>2</th>\n",
              "      <td>bitcoin</td>\n",
              "      <td>Dec 02, 2019</td>\n",
              "      <td>7424.04</td>\n",
              "      <td>7474.82</td>\n",
              "      <td>7233.40</td>\n",
              "      <td>7321.99</td>\n",
              "      <td>1.708204e+10</td>\n",
              "      <td>132378982377</td>\n",
              "      <td>2019</td>\n",
              "      <td>12</td>\n",
              "      <td>4</td>\n",
              "    </tr>\n",
              "    <tr>\n",
              "      <th>3</th>\n",
              "      <td>bitcoin</td>\n",
              "      <td>Dec 01, 2019</td>\n",
              "      <td>7571.62</td>\n",
              "      <td>7571.62</td>\n",
              "      <td>7291.34</td>\n",
              "      <td>7424.29</td>\n",
              "      <td>1.872071e+10</td>\n",
              "      <td>134215145410</td>\n",
              "      <td>2019</td>\n",
              "      <td>12</td>\n",
              "      <td>4</td>\n",
              "    </tr>\n",
              "    <tr>\n",
              "      <th>4</th>\n",
              "      <td>bitcoin</td>\n",
              "      <td>Nov 30, 2019</td>\n",
              "      <td>7764.06</td>\n",
              "      <td>7836.10</td>\n",
              "      <td>7515.85</td>\n",
              "      <td>7569.63</td>\n",
              "      <td>1.715819e+10</td>\n",
              "      <td>136829391049</td>\n",
              "      <td>2019</td>\n",
              "      <td>11</td>\n",
              "      <td>4</td>\n",
              "    </tr>\n",
              "    <tr>\n",
              "      <th>...</th>\n",
              "      <td>...</td>\n",
              "      <td>...</td>\n",
              "      <td>...</td>\n",
              "      <td>...</td>\n",
              "      <td>...</td>\n",
              "      <td>...</td>\n",
              "      <td>...</td>\n",
              "      <td>...</td>\n",
              "      <td>...</td>\n",
              "      <td>...</td>\n",
              "      <td>...</td>\n",
              "    </tr>\n",
              "    <tr>\n",
              "      <th>2407</th>\n",
              "      <td>bitcoin</td>\n",
              "      <td>May 02, 2013</td>\n",
              "      <td>116.38</td>\n",
              "      <td>125.60</td>\n",
              "      <td>92.28</td>\n",
              "      <td>105.21</td>\n",
              "      <td>0.000000e+00</td>\n",
              "      <td>1168517495</td>\n",
              "      <td>2013</td>\n",
              "      <td>5</td>\n",
              "      <td>2</td>\n",
              "    </tr>\n",
              "    <tr>\n",
              "      <th>2408</th>\n",
              "      <td>bitcoin</td>\n",
              "      <td>May 01, 2013</td>\n",
              "      <td>139.00</td>\n",
              "      <td>139.89</td>\n",
              "      <td>107.72</td>\n",
              "      <td>116.99</td>\n",
              "      <td>0.000000e+00</td>\n",
              "      <td>1298954594</td>\n",
              "      <td>2013</td>\n",
              "      <td>5</td>\n",
              "      <td>2</td>\n",
              "    </tr>\n",
              "    <tr>\n",
              "      <th>2409</th>\n",
              "      <td>bitcoin</td>\n",
              "      <td>Apr 30, 2013</td>\n",
              "      <td>144.00</td>\n",
              "      <td>146.93</td>\n",
              "      <td>134.05</td>\n",
              "      <td>139.00</td>\n",
              "      <td>0.000000e+00</td>\n",
              "      <td>1542813125</td>\n",
              "      <td>2013</td>\n",
              "      <td>4</td>\n",
              "      <td>2</td>\n",
              "    </tr>\n",
              "    <tr>\n",
              "      <th>2410</th>\n",
              "      <td>bitcoin</td>\n",
              "      <td>Apr 29, 2013</td>\n",
              "      <td>134.44</td>\n",
              "      <td>147.49</td>\n",
              "      <td>134.00</td>\n",
              "      <td>144.54</td>\n",
              "      <td>0.000000e+00</td>\n",
              "      <td>1603768865</td>\n",
              "      <td>2013</td>\n",
              "      <td>4</td>\n",
              "      <td>2</td>\n",
              "    </tr>\n",
              "    <tr>\n",
              "      <th>2411</th>\n",
              "      <td>bitcoin</td>\n",
              "      <td>Apr 28, 2013</td>\n",
              "      <td>135.30</td>\n",
              "      <td>135.98</td>\n",
              "      <td>132.10</td>\n",
              "      <td>134.21</td>\n",
              "      <td>0.000000e+00</td>\n",
              "      <td>1488566728</td>\n",
              "      <td>2013</td>\n",
              "      <td>4</td>\n",
              "      <td>2</td>\n",
              "    </tr>\n",
              "  </tbody>\n",
              "</table>\n",
              "<p>2412 rows × 11 columns</p>\n",
              "</div>"
            ],
            "text/plain": [
              "     Currency          Date     Open     High  ...    Market Cap  yyyy  mm  q\n",
              "0     bitcoin  Dec 04, 2019  7320.13  7539.78  ...  131143073943  2019  12  4\n",
              "1     bitcoin  Dec 03, 2019  7323.98  7418.86  ...  132359942301  2019  12  4\n",
              "2     bitcoin  Dec 02, 2019  7424.04  7474.82  ...  132378982377  2019  12  4\n",
              "3     bitcoin  Dec 01, 2019  7571.62  7571.62  ...  134215145410  2019  12  4\n",
              "4     bitcoin  Nov 30, 2019  7764.06  7836.10  ...  136829391049  2019  11  4\n",
              "...       ...           ...      ...      ...  ...           ...   ...  .. ..\n",
              "2407  bitcoin  May 02, 2013   116.38   125.60  ...    1168517495  2013   5  2\n",
              "2408  bitcoin  May 01, 2013   139.00   139.89  ...    1298954594  2013   5  2\n",
              "2409  bitcoin  Apr 30, 2013   144.00   146.93  ...    1542813125  2013   4  2\n",
              "2410  bitcoin  Apr 29, 2013   134.44   147.49  ...    1603768865  2013   4  2\n",
              "2411  bitcoin  Apr 28, 2013   135.30   135.98  ...    1488566728  2013   4  2\n",
              "\n",
              "[2412 rows x 11 columns]"
            ]
          },
          "metadata": {
            "tags": []
          },
          "execution_count": 14
        }
      ]
    },
    {
      "cell_type": "markdown",
      "metadata": {
        "id": "t9h3MFIj2b55",
        "colab_type": "text"
      },
      "source": [
        "**Let's plot it by month to see the high and lows**"
      ]
    },
    {
      "cell_type": "code",
      "metadata": {
        "id": "ABB7NWaD2olZ",
        "colab_type": "code",
        "outputId": "aaece044-7074-4646-89ec-cb430a599244",
        "colab": {
          "base_uri": "https://localhost:8080/",
          "height": 653
        }
      },
      "source": [
        "#we want to group it by year and month and take the highest high of given month\n",
        "\n",
        "# change plotting colors per client request\n",
        "plt.style.use('dark_background')\n",
        "print(\"ggplot theme complete\")\n",
        "\n",
        "\n",
        "btc.groupby(['yyyy', 'mm']).agg({'High': np.max}).plot(kind='line')"
      ],
      "execution_count": 0,
      "outputs": [
        {
          "output_type": "stream",
          "text": [
            "ggplot theme complete\n"
          ],
          "name": "stdout"
        },
        {
          "output_type": "execute_result",
          "data": {
            "text/plain": [
              "<matplotlib.axes._subplots.AxesSubplot at 0x7fd8e7244588>"
            ]
          },
          "metadata": {
            "tags": []
          },
          "execution_count": 15
        },
        {
          "output_type": "display_data",
          "data": {
            "image/png": "[encoded data removed]",
            "text/plain": [
              "<Figure size 1080x720 with 1 Axes>"
            ]
          },
          "metadata": {
            "tags": []
          }
        }
      ]
    },
    {
      "cell_type": "code",
      "metadata": {
        "id": "wsXwtU0h4PDm",
        "colab_type": "code",
        "outputId": "22eed566-17e0-4564-c5b9-15e9a584a595",
        "colab": {
          "base_uri": "https://localhost:8080/",
          "height": 636
        }
      },
      "source": [
        "# for any given month, I also want to overlay the lowest amount to show the volatile it is\n",
        "\n",
        "btc.groupby(['yyyy', 'mm']).agg({'High': np.max, 'Low': np.min}).plot(kind='line')"
      ],
      "execution_count": 0,
      "outputs": [
        {
          "output_type": "execute_result",
          "data": {
            "text/plain": [
              "<matplotlib.axes._subplots.AxesSubplot at 0x7fd8e71e7eb8>"
            ]
          },
          "metadata": {
            "tags": []
          },
          "execution_count": 16
        },
        {
          "output_type": "display_data",
          "data": {
            "image/png": "[encoded data removed]",
            "text/plain": [
              "<Figure size 1080x720 with 1 Axes>"
            ]
          },
          "metadata": {
            "tags": []
          }
        }
      ]
    },
    {
      "cell_type": "code",
      "metadata": {
        "id": "UmEVJ6uv_CFv",
        "colab_type": "code",
        "outputId": "47ad9212-852e-41e1-8b72-bfafeb7e30e7",
        "colab": {
          "base_uri": "https://localhost:8080/",
          "height": 659
        }
      },
      "source": [
        "# i want to see the high and the lows BY YEAR\n",
        "\n",
        "btc.groupby(['yyyy']).agg({'High': np.max, 'Low': np.min}).plot(kind='bar')"
      ],
      "execution_count": 0,
      "outputs": [
        {
          "output_type": "execute_result",
          "data": {
            "text/plain": [
              "<matplotlib.axes._subplots.AxesSubplot at 0x7fd8e57d60b8>"
            ]
          },
          "metadata": {
            "tags": []
          },
          "execution_count": 18
        },
        {
          "output_type": "display_data",
          "data": {
            "image/png": "[encoded data removed]",
            "text/plain": [
              "<Figure size 1080x720 with 1 Axes>"
            ]
          },
          "metadata": {
            "tags": []
          }
        }
      ]
    },
    {
      "cell_type": "markdown",
      "metadata": {
        "id": "V-NQ2nNZ6CDb",
        "colab_type": "text"
      },
      "source": [
        "**Next I want to see the day with BTC'a highest and lowest price**"
      ]
    },
    {
      "cell_type": "code",
      "metadata": {
        "id": "oY2RGbiZ6Rrx",
        "colab_type": "code",
        "outputId": "57342287-3cb2-434c-d2a3-1f0104e1c6ac",
        "colab": {
          "base_uri": "https://localhost:8080/",
          "height": 80
        }
      },
      "source": [
        "#sort the df by high descending and keep one\n",
        "btc.sort_values(by=['High'], ascending=False).head(1)"
      ],
      "execution_count": 0,
      "outputs": [
        {
          "output_type": "execute_result",
          "data": {
            "text/html": [
              "<div>\n",
              "<style scoped>\n",
              "    .dataframe tbody tr th:only-of-type {\n",
              "        vertical-align: middle;\n",
              "    }\n",
              "\n",
              "    .dataframe tbody tr th {\n",
              "        vertical-align: top;\n",
              "    }\n",
              "\n",
              "    .dataframe thead th {\n",
              "        text-align: right;\n",
              "    }\n",
              "</style>\n",
              "<table border=\"1\" class=\"dataframe\">\n",
              "  <thead>\n",
              "    <tr style=\"text-align: right;\">\n",
              "      <th></th>\n",
              "      <th>Currency</th>\n",
              "      <th>Date</th>\n",
              "      <th>Open</th>\n",
              "      <th>High</th>\n",
              "      <th>Low</th>\n",
              "      <th>Close</th>\n",
              "      <th>Volume</th>\n",
              "      <th>Market Cap</th>\n",
              "      <th>yyyy</th>\n",
              "      <th>mm</th>\n",
              "      <th>q</th>\n",
              "    </tr>\n",
              "  </thead>\n",
              "  <tbody>\n",
              "    <tr>\n",
              "      <th>717</th>\n",
              "      <td>bitcoin</td>\n",
              "      <td>Dec 17, 2017</td>\n",
              "      <td>19475.8</td>\n",
              "      <td>20089.0</td>\n",
              "      <td>18974.1</td>\n",
              "      <td>19140.8</td>\n",
              "      <td>1.331460e+10</td>\n",
              "      <td>320576568850</td>\n",
              "      <td>2017</td>\n",
              "      <td>12</td>\n",
              "      <td>4</td>\n",
              "    </tr>\n",
              "  </tbody>\n",
              "</table>\n",
              "</div>"
            ],
            "text/plain": [
              "    Currency          Date     Open     High  ...    Market Cap  yyyy  mm  q\n",
              "717  bitcoin  Dec 17, 2017  19475.8  20089.0  ...  320576568850  2017  12  4\n",
              "\n",
              "[1 rows x 11 columns]"
            ]
          },
          "metadata": {
            "tags": []
          },
          "execution_count": 19
        }
      ]
    },
    {
      "cell_type": "code",
      "metadata": {
        "id": "Ym4TXSDD5A4R",
        "colab_type": "code",
        "outputId": "be458e14-6668-41d5-a256-f3abde3a5849",
        "colab": {
          "base_uri": "https://localhost:8080/",
          "height": 80
        }
      },
      "source": [
        "#how about the lowest price (keep in mind this data is only going back to 2013)\n",
        "btc.sort_values(by=['Low'], ascending=True).head(1)"
      ],
      "execution_count": 0,
      "outputs": [
        {
          "output_type": "execute_result",
          "data": {
            "text/html": [
              "<div>\n",
              "<style scoped>\n",
              "    .dataframe tbody tr th:only-of-type {\n",
              "        vertical-align: middle;\n",
              "    }\n",
              "\n",
              "    .dataframe tbody tr th {\n",
              "        vertical-align: top;\n",
              "    }\n",
              "\n",
              "    .dataframe thead th {\n",
              "        text-align: right;\n",
              "    }\n",
              "</style>\n",
              "<table border=\"1\" class=\"dataframe\">\n",
              "  <thead>\n",
              "    <tr style=\"text-align: right;\">\n",
              "      <th></th>\n",
              "      <th>Currency</th>\n",
              "      <th>Date</th>\n",
              "      <th>Open</th>\n",
              "      <th>High</th>\n",
              "      <th>Low</th>\n",
              "      <th>Close</th>\n",
              "      <th>Volume</th>\n",
              "      <th>Market Cap</th>\n",
              "      <th>yyyy</th>\n",
              "      <th>mm</th>\n",
              "      <th>q</th>\n",
              "    </tr>\n",
              "  </thead>\n",
              "  <tbody>\n",
              "    <tr>\n",
              "      <th>2343</th>\n",
              "      <td>bitcoin</td>\n",
              "      <td>Jul 05, 2013</td>\n",
              "      <td>79.99</td>\n",
              "      <td>80.0</td>\n",
              "      <td>65.53</td>\n",
              "      <td>68.43</td>\n",
              "      <td>0.0</td>\n",
              "      <td>778411179</td>\n",
              "      <td>2013</td>\n",
              "      <td>7</td>\n",
              "      <td>3</td>\n",
              "    </tr>\n",
              "  </tbody>\n",
              "</table>\n",
              "</div>"
            ],
            "text/plain": [
              "     Currency          Date   Open  High  ...  Market Cap  yyyy  mm  q\n",
              "2343  bitcoin  Jul 05, 2013  79.99  80.0  ...   778411179  2013   7  3\n",
              "\n",
              "[1 rows x 11 columns]"
            ]
          },
          "metadata": {
            "tags": []
          },
          "execution_count": 20
        }
      ]
    },
    {
      "cell_type": "markdown",
      "metadata": {
        "id": "QedpKSl_7ClP",
        "colab_type": "text"
      },
      "source": [
        "\n",
        "\n",
        "\n",
        "\n",
        "**Assume we decided to invest in bitcoin when it was at its lowest (since this data set) and sell when it was at its highest...**\n",
        "\n",
        "# the following code allows you to enter a number you want to invest"
      ]
    },
    {
      "cell_type": "code",
      "metadata": {
        "id": "fzGXNiBLAVHB",
        "colab_type": "code",
        "outputId": "1c982a31-e6e5-4f62-c3c3-871e25949310",
        "colab": {
          "base_uri": "https://localhost:8080/",
          "height": 102
        }
      },
      "source": [
        "# get input from user\n",
        "x = int(input(\"Enter how many dollars you want to invest: \"))\n",
        "\n",
        "# Quick Calcualtion\n",
        "y = (x / 65.53 * 20089) - x\n",
        "y = round(y, 2)\n",
        "\n",
        "#make the variables have thosand seperatort \n",
        "x = f'{x:,}' \n",
        "y = f'{y:,}' \n",
        "\n",
        "#print it and make it user friendly\n",
        "print(f\"\"\"If you would have inversted ${x} on July 05, 2013\n",
        "and sold it at it's hight on Dec 17, 2017\n",
        "You would have made ${y}\n",
        "\"\"\")"
      ],
      "execution_count": 0,
      "outputs": [
        {
          "output_type": "stream",
          "text": [
            "Enter how many dollars you want to invest: 15000\n",
            "If you would have inversted $15,000 on July 05, 2013\n",
            "and sold it at it's hight on Dec 17, 2017\n",
            "You would have made $4,583,428.2\n",
            "\n"
          ],
          "name": "stdout"
        }
      ]
    },
    {
      "cell_type": "markdown",
      "metadata": {
        "id": "CnKFCfA4ECys",
        "colab_type": "text"
      },
      "source": [
        "No one knew about Bitcoin in 2013. So most likely no one invested.\n",
        "Ok... in Jan 2017, Bitcoin already had some momentum, people knew about it. \n",
        "So let's see how much you would have made if you purchased btc on 1/1/2017 and sold it in 12/31/2017... after it fell a lot from it's 12/17 high. \n"
      ]
    },
    {
      "cell_type": "code",
      "metadata": {
        "id": "XdNLwsSSCZ79",
        "colab_type": "code",
        "outputId": "8a327ced-07d3-4ea8-b972-276f7dc58633",
        "colab": {
          "base_uri": "https://localhost:8080/",
          "height": 102
        }
      },
      "source": [
        "a = 958.7 #btc[btc['Date'] == 'Jan 01, 2017']['Low']\n",
        "b = 14377.4 # btc[btc['Date'] == 'Dec 31, 2017']['High']\n",
        "\n",
        "\n",
        "\n",
        "# get input from user\n",
        "x = int(input(\"Enter how many dollars you want to invest: \"))\n",
        "\n",
        "y = (x / a * b) - x\n",
        "y = (round(y, 2))\n",
        "\n",
        "\n",
        "#make the variables have thosand seperatort \n",
        "x = f'{x:,}' \n",
        "y = f'{y:,}'\n",
        "\n",
        "\n",
        "#print it and make it user friendly\n",
        "print(f\"\"\"If you would have inversted ${x} on Jan 01, 2017\n",
        "and sold it at it's hight on Dec 17, 2017\n",
        "You would have made ${y}\n",
        "\"\"\")"
      ],
      "execution_count": 0,
      "outputs": [
        {
          "output_type": "stream",
          "text": [
            "Enter how many dollars you want to invest: 15000\n",
            "If you would have inversted $15,000 on Jan 01, 2017\n",
            "and sold it at it's hight on Dec 17, 2017\n",
            "You would have made $209,951.5\n",
            "\n"
          ],
          "name": "stdout"
        }
      ]
    }
  ]
}